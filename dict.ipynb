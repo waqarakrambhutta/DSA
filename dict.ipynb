{
 "cells": [
  {
   "cell_type": "markdown",
   "id": "ff3dc03e",
   "metadata": {},
   "source": []
  },
  {
   "cell_type": "code",
   "execution_count": null,
   "id": "7ca42a72",
   "metadata": {},
   "outputs": [],
   "source": [
    "# Mamory Allocation of Dictionary\n",
    "# When we store dictionary, it's key is passed through hash_function(), this function assign any index. On this index that key-value pair is stored in the array. And so on all item are stored in the same array at rendom indeices.\n",
    "# Collision: Might be possible, hash_function() assign same index to two or more key-value pairs. In this case, they all will be stored in linked list at this index.\n",
    "\n"
   ]
  }
 ],
 "metadata": {
  "language_info": {
   "name": "python"
  }
 },
 "nbformat": 4,
 "nbformat_minor": 5
}
