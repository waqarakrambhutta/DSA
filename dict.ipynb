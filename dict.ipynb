{
 "cells": [
  {
   "cell_type": "markdown",
   "id": "ff3dc03e",
   "metadata": {},
   "source": []
  },
  {
   "cell_type": "code",
   "execution_count": 8,
   "id": "7ca42a72",
   "metadata": {},
   "outputs": [],
   "source": [
    "# Mamory Allocation of Dictionary\n",
    "# When we store dictionary, it's key is passed through hash_function(), this function assign any rendom index. On this index that key-value pair is stored in the array. And so on all item are stored in the same array at rendom indeices.\n",
    "# Collision: Might be possible, hash_function() assign same index to two or more key-value pairs. In this case, they all will be stored in linked list at this index.\n",
    "\n",
    "# Updating and Inserting item in dictionary -> the time complexity is 0(1) and space complexity is amortized_O(1).\n",
    "# Later find what is amortised O(1)?\n"
   ]
  },
  {
   "cell_type": "code",
   "execution_count": 9,
   "id": "bd731693",
   "metadata": {},
   "outputs": [
    {
     "name": "stdout",
     "output_type": "stream",
     "text": [
      "{'name': 'waqar', 'city': 'jalal pur'}\n",
      "{'name': 'waqar', 'city': 'jalal pur', 'degree': 'bscs'}\n"
     ]
    }
   ],
   "source": [
    "# insertion/updating\n",
    "my_dict = {'name': 'waqar', 'city': 'jalal pur'}\n",
    "print(my_dict)\n",
    "my_dict['degree'] = 'bscs'\n",
    "print(my_dict)"
   ]
  },
  {
   "cell_type": "code",
   "execution_count": 13,
   "id": "f4449a50",
   "metadata": {},
   "outputs": [
    {
     "data": {
      "text/plain": [
       "\"Value doesn't exist...\""
      ]
     },
     "execution_count": 13,
     "metadata": {},
     "output_type": "execute_result"
    }
   ],
   "source": [
    "# traversing\n",
    "def find(dict, value):\n",
    "    for i in my_dict:\n",
    "        if dict[i] == value:\n",
    "            return i, value\n",
    "    return \"Value doesn't exist...\"\n",
    "\n",
    "find(my_dict, 'jalal pr')\n",
    "\n"
   ]
  }
 ],
 "metadata": {
  "kernelspec": {
   "display_name": ".venv",
   "language": "python",
   "name": "python3"
  },
  "language_info": {
   "codemirror_mode": {
    "name": "ipython",
    "version": 3
   },
   "file_extension": ".py",
   "mimetype": "text/x-python",
   "name": "python",
   "nbconvert_exporter": "python",
   "pygments_lexer": "ipython3",
   "version": "3.12.3"
  }
 },
 "nbformat": 4,
 "nbformat_minor": 5
}
