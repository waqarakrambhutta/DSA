{
 "cells": [
  {
   "cell_type": "markdown",
   "id": "ff3dc03e",
   "metadata": {},
   "source": []
  },
  {
   "cell_type": "code",
   "execution_count": 8,
   "id": "7ca42a72",
   "metadata": {},
   "outputs": [],
   "source": [
    "# Mamory Allocation of Dictionary\n",
    "# When we store dictionary, it's key is passed through hash_function(), this function assign any rendom index. On this index that key-value pair is stored in the array. And so on all item are stored in the same array at rendom indeices.\n",
    "# Collision: Might be possible, hash_function() assign same index to two or more key-value pairs. In this case, they all will be stored in linked list at this index.\n",
    "\n",
    "# Updating and Inserting item in dictionary -> the time complexity is 0(1) and space complexity is amortized_O(1).\n",
    "# Later find what is amortised O(1)?\n"
   ]
  },
  {
   "cell_type": "code",
   "execution_count": 9,
   "id": "bd731693",
   "metadata": {},
   "outputs": [
    {
     "name": "stdout",
     "output_type": "stream",
     "text": [
      "{'name': 'waqar', 'city': 'jalal pur'}\n",
      "{'name': 'waqar', 'city': 'jalal pur', 'degree': 'bscs'}\n"
     ]
    }
   ],
   "source": [
    "# insertion/updating\n",
    "my_dict = {'name': 'waqar', 'city': 'jalal pur'}\n",
    "print(my_dict)\n",
    "my_dict['degree'] = 'bscs'\n",
    "print(my_dict)"
   ]
  },
  {
   "cell_type": "code",
   "execution_count": 13,
   "id": "f4449a50",
   "metadata": {},
   "outputs": [
    {
     "data": {
      "text/plain": [
       "\"Value doesn't exist...\""
      ]
     },
     "execution_count": 13,
     "metadata": {},
     "output_type": "execute_result"
    }
   ],
   "source": [
    "# traversing\n",
    "def find(dict, value):\n",
    "    for i in my_dict:\n",
    "        if dict[i] == value:\n",
    "            return i, value\n",
    "    return \"Value doesn't exist...\"\n",
    "\n",
    "find(my_dict, 'jalal pr')\n",
    "\n"
   ]
  },
  {
   "cell_type": "code",
   "execution_count": 18,
   "id": "9fa615bf",
   "metadata": {},
   "outputs": [],
   "source": [
    "# delete and item -> pop(), popitem() [It removes any rendom number from the dictionary], clear() deletes all the items from dictionary\n",
    "# del myDict['key'] -> it's another way of deleting the item.\n",
    "\n",
    "# It's time complexity is O(1) but in case of amortizing it's time complexity is amortized O(n)\n",
    "# Space complexity is O(1) obviously \n",
    "    "
   ]
  },
  {
   "cell_type": "code",
   "execution_count": 2,
   "id": "0e456725",
   "metadata": {},
   "outputs": [
    {
     "name": "stdout",
     "output_type": "stream",
     "text": [
      "{'name': 'ammar', 'reg': '7843', 'university': 'uaf', 'a': 1, 'b': 2}\n"
     ]
    }
   ],
   "source": [
    "dict = {'name': 'waqar','reg': '7843', 'university': 'uaf'}\n",
    "# Dictionary Built-in Methods: .clear() .copy() .fromkeys() .get() .items() .keys() .values()\n",
    "\n",
    "dict.update({'a':1, 'b':2, 'name':'ammar'})\n",
    "\n",
    "print(dict)"
   ]
  },
  {
   "cell_type": "code",
   "execution_count": 80,
   "id": "254eb61d",
   "metadata": {},
   "outputs": [
    {
     "name": "stdout",
     "output_type": "stream",
     "text": [
      "False\n",
      "True\n",
      "3\n",
      "['esdfasdf', 'afddsd', 'oasdf', 'usd', 'ia']\n"
     ]
    }
   ],
   "source": [
    "# built-in operations for dictionary\n",
    "\n",
    "# in operation - this operator uses hash table for searching elements which results efficient search with time complexity of O(1)\n",
    "# print('ammar akram' in dict.values())\n",
    "\n",
    "# all() - I check the all values against boolean values e.g:\n",
    "dict2 = {0:True,1:True, 2:True}\n",
    "dict3= {}\n",
    "print(all(dict2))\n",
    "\n",
    "# any() - This is opposite of all()\n",
    "print(any(dict2))\n",
    "\n",
    "# len() - length of dictionary\n",
    "print(len(dict2))\n",
    "\n",
    "# sorted()\n",
    "dict4 = {'esdfasdf':0,'afddsd':1,'usd':2,'oasdf':3,'ia':4}\n",
    "print(sorted(dict4, reverse=True, key=len))"
   ]
  },
  {
   "cell_type": "code",
   "execution_count": null,
   "id": "07f12e95",
   "metadata": {},
   "outputs": [],
   "source": []
  }
 ],
 "metadata": {
  "kernelspec": {
   "display_name": ".venv",
   "language": "python",
   "name": "python3"
  },
  "language_info": {
   "codemirror_mode": {
    "name": "ipython",
    "version": 3
   },
   "file_extension": ".py",
   "mimetype": "text/x-python",
   "name": "python",
   "nbconvert_exporter": "python",
   "pygments_lexer": "ipython3",
   "version": "3.12.3"
  }
 },
 "nbformat": 4,
 "nbformat_minor": 5
}
