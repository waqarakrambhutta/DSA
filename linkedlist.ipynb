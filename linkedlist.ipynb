{
 "cells": [
  {
   "cell_type": "code",
   "execution_count": null,
   "id": "4e438650",
   "metadata": {},
   "outputs": [],
   "source": [
    "# Types of linked list.\n",
    "# Linked list in mamory.\n",
    "# Various operations on linked list."
   ]
  },
  {
   "cell_type": "code",
   "execution_count": null,
   "id": "f16cfc1e",
   "metadata": {},
   "outputs": [],
   "source": [
    "# Data doesn't to be ordered in it.\n",
    "# Made up of independent nodes.\n",
    "# Contain any type of data.\n",
    "# Each node contain reference to next node."
   ]
  },
  {
   "cell_type": "code",
   "execution_count": null,
   "id": "5f16fa23",
   "metadata": {},
   "outputs": [],
   "source": [
    "# Linked list b/w Array\n",
    "# CRUD exists in both.\n",
    "# Size is not predefined / Size is predefined \n",
    "# Each item is independent to other items / Each item is dependent [Mean if we delete item from array the item is deleted but empty space remains in the mamory. But in linked list it is deleted completely]\n",
    "# Insertion and removel is very efficient Linked list, here the reference is changed just / Insertion and removel is expensive due to the shift of mamory cell due to these operations.\n",
    "# Accessing items is expensive because it goes through each item and give the value, O(n) time complexity / Accessing is very efficient because if we know index array knows where the item exists, O(1) time complexit."
   ]
  }
 ],
 "metadata": {
  "language_info": {
   "name": "python"
  }
 },
 "nbformat": 4,
 "nbformat_minor": 5
}
