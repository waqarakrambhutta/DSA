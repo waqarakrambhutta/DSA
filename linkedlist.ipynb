{
 "cells": [
  {
   "cell_type": "code",
   "execution_count": null,
   "id": "4e438650",
   "metadata": {},
   "outputs": [],
   "source": [
    "# Types of linked list.\n",
    "# Linked list in mamory.\n",
    "# Various operations on linked list."
   ]
  },
  {
   "cell_type": "code",
   "execution_count": null,
   "id": "f16cfc1e",
   "metadata": {},
   "outputs": [],
   "source": [
    "# Data doesn't to be ordered in it.\n",
    "# Made up of independent nodes.\n",
    "# Contain any type of data.\n",
    "# Each node contain reference to next node."
   ]
  }
 ],
 "metadata": {
  "language_info": {
   "name": "python"
  }
 },
 "nbformat": 4,
 "nbformat_minor": 5
}
