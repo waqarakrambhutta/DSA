{
 "cells": [
  {
   "cell_type": "code",
   "execution_count": null,
   "id": "4e438650",
   "metadata": {},
   "outputs": [],
   "source": [
    "# Types of linked list.\n",
    "# Linked list in mamory.\n",
    "# Various operations on linked list."
   ]
  },
  {
   "cell_type": "code",
   "execution_count": null,
   "id": "f16cfc1e",
   "metadata": {},
   "outputs": [],
   "source": [
    "# Data doesn't to be ordered in it.\n",
    "# Made up of independent nodes.\n",
    "# Contain any type of data.\n",
    "# Each node contain reference to next node."
   ]
  },
  {
   "cell_type": "code",
   "execution_count": null,
   "id": "5f16fa23",
   "metadata": {},
   "outputs": [],
   "source": [
    "# Linked list b/w Array\n",
    "# CRUD exists in both.\n",
    "# Size is not predefined / Size is predefined \n",
    "# Each item is independent to other items / Each item is dependent [Mean if we delete item from array the item is deleted but empty space remains in the mamory. But in linked list it is deleted completely]\n",
    "# Insertion and removel is very efficient Linked list, here the reference is changed just / Insertion and removel is expensive due to the shift of mamory cell due to these operations.\n",
    "# Accessing items is expensive because it goes through each item and give the value, O(n) time complexity / Accessing is very efficient because if we know index array knows where the item exists, O(1) time complexit."
   ]
  },
  {
   "cell_type": "code",
   "execution_count": null,
   "id": "3439302c",
   "metadata": {},
   "outputs": [],
   "source": [
    "# Types of linked list.\n",
    "# Singly linked list.\n",
    "# Circular Singly linked list\n",
    "# Doubly linked list.\n",
    "# Circular Doubly linked list.\n",
    "\n",
    "\n",
    "# 1...\n",
    "# Each item contains physical address of next item of the linked list.\n",
    "# Efficient Insertion and Removel.\n",
    "\n",
    "# 2...\n",
    "# This is similar to previous one but in this type the last item of the linked list contain the address to the first point.\n",
    "# We have the option to go directly from last node to the first node. But this is not possible in the singly linked list.\n",
    "# Take the example of Ludo game: Each player is the item of linked list and after player4 takes his turn, the trun of first player1 comes, instead of moving backword.\n",
    "\n",
    "# 3...\n",
    "# Doubly linked list is the unique type of linked list.\n",
    "# Each item contain the physical address of previous item as well.\n",
    "# The benifit of this feature is that we can travers in both sides, either forward or backward.\n",
    "# Take the example of Music player, we can play next and previous music because each music contain the address of previous song and next song. So we can switch them.\n",
    "\n",
    "# 4...\n",
    "# Similary to doubly linked list.\n",
    "# The last item of the linked list contain the address of first item.\n",
    "# Take the example of ctrl+tab to siwtch different application of PC. When we reach on the last item it then switches to the first item."
   ]
  },
  {
   "cell_type": "code",
   "execution_count": null,
   "id": "855e67d4",
   "metadata": {},
   "outputs": [],
   "source": [
    "# Linked list in mamory.\n",
    "# Unlike array, the nodes of linked list are store rendomly in mamory.  \n",
    "# Pointer of corresponding node is stored inside the node as an address.\n",
    "# Each item need extra space to store the pointer the will be stored in it."
   ]
  },
  {
   "cell_type": "code",
   "execution_count": null,
   "id": "cf086e9b",
   "metadata": {},
   "outputs": [],
   "source": [
    "# Creation of singly linked list.\n",
    "\n",
    "class Node:\n",
    "    def __init__(self, value):\n",
    "        self.value = value\n",
    "        self.next = None\n",
    "\n",
    "class SLinkedList:\n",
    "    def __init__(self):\n",
    "        self.head = None\n",
    "        self.tail = None\n",
    "\n",
    "singlyLinkedList = SLinkedList()\n",
    "node1 = Node(1)\n",
    "node2 = Node(2)\n",
    "\n",
    "singlyLinkedList.head = node1\n",
    "singlyLinkedList.head.next = node2\n",
    "singlyLinkedList.tail = node2"
   ]
  }
 ],
 "metadata": {
  "kernelspec": {
   "display_name": ".venv",
   "language": "python",
   "name": "python3"
  },
  "language_info": {
   "codemirror_mode": {
    "name": "ipython",
    "version": 3
   },
   "file_extension": ".py",
   "mimetype": "text/x-python",
   "name": "python",
   "nbconvert_exporter": "python",
   "pygments_lexer": "ipython3",
   "version": "3.12.3"
  }
 },
 "nbformat": 4,
 "nbformat_minor": 5
}
