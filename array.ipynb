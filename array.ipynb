{
 "cells": [
  {
   "cell_type": "code",
   "execution_count": 4,
   "id": "228e919e",
   "metadata": {},
   "outputs": [
    {
     "name": "stdout",
     "output_type": "stream",
     "text": [
      "array('i', [1, 2, 4, 5, 6, 7, 8])\n"
     ]
    }
   ],
   "source": [
    "from array import * \n",
    "\n",
    "arr1 = array('i', [1,2,4,5,6,7,8])\n",
    "\n",
    "print(arr1)"
   ]
  },
  {
   "cell_type": "code",
   "execution_count": null,
   "id": "b7e6025d",
   "metadata": {},
   "outputs": [
    {
     "name": "stdout",
     "output_type": "stream",
     "text": [
      "array('i', [1, 2, 4, 5, 6, 7, 8, 9])\n"
     ]
    }
   ],
   "source": [
    "\"\"\"\n",
    "inserting\n",
    "If we insert item at the end then big O is O(1)...\n",
    "If we insert item in the start then big O is O(n)...\n",
    "\"\"\"\n",
    "arr1.insert(9, 9)\n",
    "print(arr1)"
   ]
  },
  {
   "cell_type": "code",
   "execution_count": 6,
   "id": "4adb9518",
   "metadata": {},
   "outputs": [
    {
     "name": "stdout",
     "output_type": "stream",
     "text": [
      "1\n",
      "2\n",
      "4\n",
      "5\n",
      "6\n",
      "7\n",
      "8\n",
      "9\n"
     ]
    }
   ],
   "source": [
    "# Array traversal.\n",
    "for i in arr1:\n",
    "    print(i)\n"
   ]
  },
  {
   "cell_type": "code",
   "execution_count": null,
   "id": "523fa7a8",
   "metadata": {},
   "outputs": [],
   "source": [
    "\"\"\"\n",
    "Revision.\n",
    "Add item in array: insert(a, b){adds an item at specific index}, append(){adds an item at the end}, expand(){adds more than one item in the array}\n",
    "fromList() adds items from array python list.\n",
    ".remove removes first occurence of any item. This is resource intensive \n",
    ".pop() removes last item form the array. This is very time efficient.\n",
    ".index() tell the index of any item in the array.\n",
    ".reverse() reverse the whole array.\n",
    ".buffer_info() tells the info of array: mamory address of array and number of items in the array.\n",
    ".count() returns the occurence of any item in the array.\n",
    ".tostring() on any array returns garbage like value but when we convert this value to integer array to using .fromstring() function it gives the actual value that we gave before.\n",
    ".tolist() converts array to python list.\n",
    "my_array[1:4] slices any part of the array.\n",
    "\"\"\""
   ]
  },
  {
   "cell_type": "code",
   "execution_count": null,
   "id": "4df456ce",
   "metadata": {},
   "outputs": [],
   "source": [
    "\"\"\"\n",
    "2-D array in python.\n",
    "inserting an array results O(mn) complexity, because we're inserting one column or one row, which means the shifting of all the columns or row one step ahead.\n",
    "array[i][j] -> we can access item like this. and it has constant time and space complexity. accessing an item from array is very efficient.\n",
    "we traverse 2-D array using nested loop. if the number of rows and columns are same then time complextiy will be quadredict(O(n^2)) other wise it will be O(mn).\n",
    "\"\"\""
   ]
  },
  {
   "cell_type": "code",
   "execution_count": null,
   "id": "ea050232",
   "metadata": {},
   "outputs": [],
   "source": [
    "\"\"\"\n",
    "Slicing in python work as List[starting index:end index]. we also inset multiple item in the specific range using this way.\n",
    "pop(index) or pop()[it will remove last element]\n",
    "we use delete as: del myList[index or range of list]\n",
    "we use remove as: remove(item of list)\n",
    "\"\"\""
   ]
  },
  {
   "cell_type": "code",
   "execution_count": 2,
   "id": "229b8578",
   "metadata": {},
   "outputs": [
    {
     "data": {
      "text/plain": [
       "\"\\nList Operations:\\n- Concatinate list by + operator\\n- Multiplying a list by a number using * repeats all the items in the list that many times.\\n- len()\\n- max()\\n- min()\\n- sum()\\n- list(myList) _ converts the string into list: 'spam' into ['s', 'p', 'a', 'm']\\n- myList.split(delimeter) _ converts words of string in the items of list: 'spam spam' to ['spam', 'spam'], by default delimeter is empty space, if we pass any character on the place of delemeter, split will split the item in the basis of that character\\n- join() will convert list into string.\\n\""
      ]
     },
     "execution_count": 2,
     "metadata": {},
     "output_type": "execute_result"
    }
   ],
   "source": [
    "\"\"\"\n",
    "List Operations:\n",
    "- Concatinate list by + operator\n",
    "- Multiplying a list by a number using * repeats all the items in the list that many times.\n",
    "- len()\n",
    "- max()\n",
    "- min()\n",
    "- sum()\n",
    "- list(myList) _ converts the string into list: 'spam' into ['s', 'p', 'a', 'm']\n",
    "- myList.split(delimeter) _ converts words of string in the items of list: 'spam spam' to ['spam', 'spam'], by default delimeter is empty space, if we pass any character on the place of delemeter, split will split the item in the basis of that character\n",
    "- join() will convert list into string.\n",
    "\"\"\"\n"
   ]
  },
  {
   "cell_type": "code",
   "execution_count": null,
   "id": "c1841bba",
   "metadata": {},
   "outputs": [
    {
     "data": {
      "text/plain": [
       "'\\nDrawbacks of List:\\n'"
      ]
     },
     "execution_count": 3,
     "metadata": {},
     "output_type": "execute_result"
    }
   ],
   "source": [
    "\"\"\"\n",
    "Drawbacks of List:\n",
    "- myList.sort() returns None.\n",
    "- above methods, change the list in-place, they don't make another copy of list to apply any operation.\n",
    "\"\"\""
   ]
  },
  {
   "cell_type": "code",
   "execution_count": 2,
   "id": "4915b276",
   "metadata": {},
   "outputs": [
    {
     "data": {
      "text/plain": [
       "\"\\nArrays vs Lists:\\n- Similarities: both are mutable, iterative, same indexing and sliceable.\\n- For arithmatic operators, prefer array instead of list.\\n- array can't contain different data types but list can.\\n\""
      ]
     },
     "execution_count": 2,
     "metadata": {},
     "output_type": "execute_result"
    }
   ],
   "source": [
    "\"\"\"\n",
    "Arrays vs Lists:\n",
    "- Similarities: both are mutable, iterative, same indexing and sliceable.\n",
    "- For arithmatic operators, prefer array instead of list.\n",
    "- array can't contain different data types but list can.\n",
    "\"\"\""
   ]
  },
  {
   "cell_type": "code",
   "execution_count": 28,
   "id": "2a4c87d4",
   "metadata": {},
   "outputs": [
    {
     "data": {
      "text/plain": [
       "0"
      ]
     },
     "execution_count": 28,
     "metadata": {},
     "output_type": "execute_result"
    }
   ],
   "source": [
    "# Missing number:\n",
    "class Solution(object):\n",
    "    def missingNumber(self, nums):\n",
    "        \"\"\"\n",
    "        :type nums: List[int]\n",
    "        :rtype: int\n",
    "        \"\"\"\n",
    "        n = min(nums)\n",
    "        for i in range(len(nums)):\n",
    "            if 0 not in nums:\n",
    "                return 0\n",
    "            elif n+1 not in nums:\n",
    "                return n+1\n",
    "            n = n+1\n",
    "\n",
    "\n",
    "Solution().missingNumber([3,2,1])"
   ]
  },
  {
   "cell_type": "code",
   "execution_count": null,
   "id": "10141064",
   "metadata": {},
   "outputs": [],
   "source": []
  }
 ],
 "metadata": {
  "kernelspec": {
   "display_name": ".venv",
   "language": "python",
   "name": "python3"
  },
  "language_info": {
   "codemirror_mode": {
    "name": "ipython",
    "version": 3
   },
   "file_extension": ".py",
   "mimetype": "text/x-python",
   "name": "python",
   "nbconvert_exporter": "python",
   "pygments_lexer": "ipython3",
   "version": "3.12.3"
  }
 },
 "nbformat": 4,
 "nbformat_minor": 5
}
