{
 "cells": [
  {
   "cell_type": "code",
   "execution_count": 4,
   "id": "228e919e",
   "metadata": {},
   "outputs": [
    {
     "name": "stdout",
     "output_type": "stream",
     "text": [
      "array('i', [1, 2, 4, 5, 6, 7, 8])\n"
     ]
    }
   ],
   "source": [
    "from array import * \n",
    "\n",
    "arr1 = array('i', [1,2,4,5,6,7,8])\n",
    "\n",
    "print(arr1)"
   ]
  },
  {
   "cell_type": "code",
   "execution_count": 5,
   "id": "b7e6025d",
   "metadata": {},
   "outputs": [
    {
     "name": "stdout",
     "output_type": "stream",
     "text": [
      "array('i', [1, 2, 4, 5, 6, 7, 8, 9])\n"
     ]
    }
   ],
   "source": [
    "# inserting\n",
    "# If we insert item at the end then big O is O(1)...\n",
    "# If we insert item in the start then big O is O(n)...\n",
    "arr1.insert(9, 9)\n",
    "print(arr1)"
   ]
  },
  {
   "cell_type": "code",
   "execution_count": 6,
   "id": "4adb9518",
   "metadata": {},
   "outputs": [
    {
     "name": "stdout",
     "output_type": "stream",
     "text": [
      "1\n",
      "2\n",
      "4\n",
      "5\n",
      "6\n",
      "7\n",
      "8\n",
      "9\n"
     ]
    }
   ],
   "source": [
    "# Array traversal.\n",
    "for i in arr1:\n",
    "    print(i)\n"
   ]
  },
  {
   "cell_type": "code",
   "execution_count": null,
   "id": "523fa7a8",
   "metadata": {},
   "outputs": [],
   "source": [
    "# Revision.\n",
    "# Add item in array: insert(a, b){adds an item at specific index}, append(){adds an item at the end}, expand(){adds more than one item in the array}\n",
    "# fromList() adds items from array python list.\n",
    "# .remove removes first occurence of any item. This is resource intensive \n",
    "# .pop() removes last item form the array. This is very time efficient.\n",
    "# .index() tell the index of any item in the array.\n",
    "# .reverse() reverse the whole array.\n",
    "# .buffer_info() tells the info of array: mamory address of array and number of items in the array.\n",
    "# .count() returns the occurence of any item in the array.\n",
    "# .tostring() on any array returns garbage like value but when we convert this value to integer array to using .fromstring() function it gives the actual value that we gave before.\n",
    "# .tolist() converts array to python list.\n",
    "# my_array[1:4] slices any part of the array."
   ]
  },
  {
   "cell_type": "code",
   "execution_count": null,
   "id": "4df456ce",
   "metadata": {},
   "outputs": [],
   "source": [
    "# 2-D array in python.\n",
    "# inserting an array results O(mn) complexity, because we're inserting one column or one row, which means the shifting of all the columns or row one step ahead.\n",
    "# array[i][j] -> we can access item like this. and it has constant time and space complexity. accessing an item from array is very efficient.\n",
    "# we traverse 2-D array using nested loop. if the number of rows and columns are same then time complextiy will be quadredict(O(n^2)) other wise it will be O(mn).\n",
    "\n"
   ]
  },
  {
   "cell_type": "code",
   "execution_count": null,
   "id": "ea050232",
   "metadata": {},
   "outputs": [],
   "source": [
    "# Slicing in python work as List[starting index:end index]. we also inset multiple item in the specific range using this way.\n",
    "# pop(index) or pop()[it will remove last element]\n",
    "# we use delete as: del myList[index or range of list]\n",
    "# we use remove as: remove(item of list)"
   ]
  }
 ],
 "metadata": {
  "kernelspec": {
   "display_name": ".venv",
   "language": "python",
   "name": "python3"
  },
  "language_info": {
   "codemirror_mode": {
    "name": "ipython",
    "version": 3
   },
   "file_extension": ".py",
   "mimetype": "text/x-python",
   "name": "python",
   "nbconvert_exporter": "python",
   "pygments_lexer": "ipython3",
   "version": "3.12.3"
  }
 },
 "nbformat": 4,
 "nbformat_minor": 5
}
