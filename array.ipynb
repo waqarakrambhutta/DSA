{
 "cells": [
  {
   "cell_type": "code",
   "execution_count": 4,
   "id": "228e919e",
   "metadata": {},
   "outputs": [
    {
     "name": "stdout",
     "output_type": "stream",
     "text": [
      "array('i', [1, 2, 4, 5, 6, 7, 8])\n"
     ]
    }
   ],
   "source": [
    "from array import * \n",
    "\n",
    "arr1 = array('i', [1,2,4,5,6,7,8])\n",
    "\n",
    "print(arr1)"
   ]
  },
  {
   "cell_type": "code",
   "execution_count": 5,
   "id": "b7e6025d",
   "metadata": {},
   "outputs": [
    {
     "name": "stdout",
     "output_type": "stream",
     "text": [
      "array('i', [1, 2, 4, 5, 6, 7, 8, 9])\n"
     ]
    }
   ],
   "source": [
    "# inserting\n",
    "# If we insert item at the end then big O is O(1)...\n",
    "# If we insert item in the start then big O is O(n)...\n",
    "arr1.insert(9, 9)\n",
    "print(arr1)"
   ]
  },
  {
   "cell_type": "code",
   "execution_count": 6,
   "id": "4adb9518",
   "metadata": {},
   "outputs": [
    {
     "name": "stdout",
     "output_type": "stream",
     "text": [
      "1\n",
      "2\n",
      "4\n",
      "5\n",
      "6\n",
      "7\n",
      "8\n",
      "9\n"
     ]
    }
   ],
   "source": [
    "# Array traversal.\n",
    "for i in arr1:\n",
    "    print(i)\n"
   ]
  },
  {
   "cell_type": "code",
   "execution_count": null,
   "id": "523fa7a8",
   "metadata": {},
   "outputs": [],
   "source": [
    "# Revision.\n",
    "# Add item in array: insert(a, b){adds an item at specific index}, append(){adds an item at the end}, expand(){adds more than one item in the array}\n",
    "\n"
   ]
  }
 ],
 "metadata": {
  "kernelspec": {
   "display_name": ".venv",
   "language": "python",
   "name": "python3"
  },
  "language_info": {
   "codemirror_mode": {
    "name": "ipython",
    "version": 3
   },
   "file_extension": ".py",
   "mimetype": "text/x-python",
   "name": "python",
   "nbconvert_exporter": "python",
   "pygments_lexer": "ipython3",
   "version": "3.12.3"
  }
 },
 "nbformat": 4,
 "nbformat_minor": 5
}
