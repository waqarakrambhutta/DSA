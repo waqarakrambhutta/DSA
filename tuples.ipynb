{
 "cells": [
  {
   "cell_type": "code",
   "execution_count": 3,
   "id": "faba88f6",
   "metadata": {},
   "outputs": [
    {
     "name": "stdout",
     "output_type": "stream",
     "text": [
      "('a', 'b', 'c', 'd', 'e')\n",
      "('a', 'c', 'e', 'd', 'e')\n",
      "a\n",
      "('a',)\n",
      "('a', 'b', 'c', 'd', 'e')\n"
     ]
    }
   ],
   "source": [
    "# Tuples are immutable.\n",
    "# They are compareable and hashable - find what is hashable.\n",
    "\n",
    "myTuple1 = 'a', 'b', 'c', 'd', 'e'\n",
    "print(myTuple1)\n",
    "\n",
    "myTuple2 = ('a','c','e', 'd', 'e')\n",
    "print(myTuple2)\n",
    "\n",
    "myTuple3 = ('a') # it will treat it the single character\n",
    "print(myTuple3)\n",
    "\n",
    "# avoid above behaviour use:\n",
    "myTuple4 = ('a',)\n",
    "print(myTuple4)\n",
    "\n",
    "myTuple5 = tuple('abcde') # in this way each character will be the separate item of the tuple.\n",
    "print(myTuple5)\n",
    "\n",
    "# the time complexity of tuple is O(1)\n",
    "# the space complexity of tuple is O(n)"
   ]
  },
  {
   "cell_type": "code",
   "execution_count": 4,
   "id": "6a3093ac",
   "metadata": {},
   "outputs": [
    {
     "name": "stdout",
     "output_type": "stream",
     "text": [
      "b\n",
      "('a', 'b', 'c')\n",
      "('c', 'd')\n"
     ]
    }
   ],
   "source": [
    "# Tuple in Mamory Accessing.\n",
    "\n",
    "print(myTuple1[1])\n",
    "print(myTuple1[:3])\n",
    "print(myTuple1[2:4])"
   ]
  },
  {
   "cell_type": "code",
   "execution_count": 5,
   "id": "120f8dfc",
   "metadata": {},
   "outputs": [],
   "source": [
    "# Traversing - Same as loop. and Time complexity is O(n) and space complexity is O(1)\n",
    "# Searching - We can search item using in operator or the linear search containing the time complexity of O(n) and space complexity of O(1)"
   ]
  },
  {
   "cell_type": "code",
   "execution_count": 7,
   "id": "8a88ebba",
   "metadata": {},
   "outputs": [
    {
     "name": "stdout",
     "output_type": "stream",
     "text": [
      "('a', 'b', 'c', 'd', 'e', 'a', 'c', 'e', 'd', 'e')\n",
      "('a', 'b', 'c', 'd', 'e', 'a', 'b', 'c', 'd', 'e', 'a', 'b', 'c', 'd', 'e', 'a', 'b', 'c', 'd', 'e')\n"
     ]
    }
   ],
   "source": [
    "# Tuple operations\n",
    "\n",
    "# Concatination - +\n",
    "print(myTuple1  + myTuple2)\n",
    "\n",
    "# Multiplication - repeats multiple time the item in the tuple.\n",
    "print(myTuple1 * 4)"
   ]
  }
 ],
 "metadata": {
  "kernelspec": {
   "display_name": ".venv",
   "language": "python",
   "name": "python3"
  },
  "language_info": {
   "codemirror_mode": {
    "name": "ipython",
    "version": 3
   },
   "file_extension": ".py",
   "mimetype": "text/x-python",
   "name": "python",
   "nbconvert_exporter": "python",
   "pygments_lexer": "ipython3",
   "version": "3.12.3"
  }
 },
 "nbformat": 4,
 "nbformat_minor": 5
}
