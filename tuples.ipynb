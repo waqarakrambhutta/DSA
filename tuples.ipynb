{
 "cells": [
  {
   "cell_type": "code",
   "execution_count": null,
   "id": "faba88f6",
   "metadata": {},
   "outputs": [
    {
     "name": "stdout",
     "output_type": "stream",
     "text": [
      "('a', 'b', 'c', 'd', 'e')\n",
      "('a', 'c', 'e', 'd', 'e')\n",
      "a\n",
      "('a',)\n",
      "('a', 'b', 'c', 'd', 'e')\n"
     ]
    }
   ],
   "source": [
    "# Tuples are immutable.\n",
    "# They are compareable and hashable - find what is hashable.\n",
    "\n",
    "myTuple1 = 'a', 'b', 'c', 'd', 'e'\n",
    "print(myTuple1)\n",
    "\n",
    "myTuple2 = ('a','c','e', 'd', 'e')\n",
    "print(myTuple2)\n",
    "\n",
    "myTuple3 = ('a') # it will treat it the single character\n",
    "print(myTuple3)\n",
    "\n",
    "# avoid above behaviour use:\n",
    "myTuple4 = ('a',)\n",
    "print(myTuple4)\n",
    "\n",
    "myTuple5 = tuple('abcde') # in this way each character will be the separate item of the tuple.\n",
    "print(myTuple5)\n",
    "\n",
    "# the time complexity of tuple is O(1)\n",
    "# the space complexity of tuple is O(n)"
   ]
  },
  {
   "cell_type": "code",
   "execution_count": null,
   "id": "6a3093ac",
   "metadata": {},
   "outputs": [],
   "source": []
  }
 ],
 "metadata": {
  "kernelspec": {
   "display_name": ".venv",
   "language": "python",
   "name": "python3"
  },
  "language_info": {
   "codemirror_mode": {
    "name": "ipython",
    "version": 3
   },
   "file_extension": ".py",
   "mimetype": "text/x-python",
   "name": "python",
   "nbconvert_exporter": "python",
   "pygments_lexer": "ipython3",
   "version": "3.12.3"
  }
 },
 "nbformat": 4,
 "nbformat_minor": 5
}
