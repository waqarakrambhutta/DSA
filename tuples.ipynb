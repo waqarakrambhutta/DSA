{
 "cells": [
  {
   "cell_type": "code",
   "execution_count": 3,
   "id": "faba88f6",
   "metadata": {},
   "outputs": [
    {
     "name": "stdout",
     "output_type": "stream",
     "text": [
      "('a', 'b', 'c', 'd', 'e')\n",
      "('a', 'c', 'e', 'd', 'e')\n",
      "a\n",
      "('a',)\n",
      "('a', 'b', 'c', 'd', 'e')\n"
     ]
    }
   ],
   "source": [
    "# Tuples are immutable.\n",
    "# They are compareable and hashable - find what is hashable.\n",
    "\n",
    "myTuple1 = 'a', 'b', 'c', 'd', 'e'\n",
    "print(myTuple1)\n",
    "\n",
    "myTuple2 = ('a','c','e', 'd', 'e')\n",
    "print(myTuple2)\n",
    "\n",
    "myTuple3 = ('a') # it will treat it the single character\n",
    "print(myTuple3)\n",
    "\n",
    "# avoid above behaviour use:\n",
    "myTuple4 = ('a',)\n",
    "print(myTuple4)\n",
    "\n",
    "myTuple5 = tuple('abcde') # in this way each character will be the separate item of the tuple.\n",
    "print(myTuple5)\n",
    "\n",
    "# the time complexity of tuple is O(1)\n",
    "# the space complexity of tuple is O(n)"
   ]
  },
  {
   "cell_type": "code",
   "execution_count": null,
   "id": "6a3093ac",
   "metadata": {},
   "outputs": [
    {
     "name": "stdout",
     "output_type": "stream",
     "text": [
      "b\n",
      "('a', 'b', 'c')\n",
      "('c', 'd')\n"
     ]
    }
   ],
   "source": [
    "# Tuple in Mamory Accessing.\n",
    "\n",
    "print(myTuple1[1])\n",
    "\n",
    "print(myTuple1[:3])\n",
    "\n",
    "print(myTuple1[2:4])"
   ]
  },
  {
   "cell_type": "code",
   "execution_count": 5,
   "id": "120f8dfc",
   "metadata": {},
   "outputs": [],
   "source": [
    "# Traversing - Same as loop. and Time complexity is O(n) and space complexity is O(1)\n",
    "# Searching - We can search item using in operator or the linear search containing the time complexity of O(n) and space complexity of O(1)"
   ]
  },
  {
   "cell_type": "code",
   "execution_count": 8,
   "id": "8a88ebba",
   "metadata": {},
   "outputs": [
    {
     "name": "stdout",
     "output_type": "stream",
     "text": [
      "('a', 'b', 'c', 'd', 'e', 'a', 'c', 'e', 'd', 'e')\n",
      "('a', 'b', 'c', 'd', 'e', 'a', 'b', 'c', 'd', 'e', 'a', 'b', 'c', 'd', 'e', 'a', 'b', 'c', 'd', 'e')\n",
      "True\n"
     ]
    }
   ],
   "source": [
    "# Tuple operations\n",
    "\n",
    "# Concatination - +\n",
    "print(myTuple1  + myTuple2)\n",
    "\n",
    "# Multiplication - repeats multiple time the item in the tuple.\n",
    "print(myTuple1 * 4)\n",
    "\n",
    "# in operator\n",
    "print('a' in myTuple1)\n"
   ]
  },
  {
   "cell_type": "code",
   "execution_count": 15,
   "id": "1be51012",
   "metadata": {},
   "outputs": [
    {
     "name": "stdout",
     "output_type": "stream",
     "text": [
      "1\n",
      "0\n",
      "5\n",
      "e\n",
      "(1, 2, 3, 4)\n"
     ]
    }
   ],
   "source": [
    "# Functions of tuple\n",
    "\n",
    "# Count\n",
    "print(myTuple1.count('a'))\n",
    "\n",
    "# Index\n",
    "print(myTuple1.index('a'))\n",
    "\n",
    "# Len\n",
    "print(len(myTuple1))\n",
    "\n",
    "# Max and Min\n",
    "print(max(myTuple1))\n",
    "\n",
    "# Tuple to List -> tuple()\n",
    "print(tuple([1,2,3,4]))"
   ]
  },
  {
   "cell_type": "code",
   "execution_count": null,
   "id": "7678d52e",
   "metadata": {},
   "outputs": [],
   "source": [
    "# Tuple d/w List\n",
    "# Tuple is immutable / List is mutable\n",
    "# We can reasign entire tuple but can't change any individual item from tuple / We can assign items and reasign the whole tuple\n",
    "# Methods of list not applicable for tuple - append, insert, remove, pop, clear, sort, reverse\n",
    "# We can nest list in tuple and tuple in tuple / we can nest tuple in list and list in list\n",
    "# Iteration in tuple is slight faster than list / iteration in list is slightly slower than tuple."
   ]
  }
 ],
 "metadata": {
  "kernelspec": {
   "display_name": ".venv",
   "language": "python",
   "name": "python3"
  },
  "language_info": {
   "codemirror_mode": {
    "name": "ipython",
    "version": 3
   },
   "file_extension": ".py",
   "mimetype": "text/x-python",
   "name": "python",
   "nbconvert_exporter": "python",
   "pygments_lexer": "ipython3",
   "version": "3.12.3"
  }
 },
 "nbformat": 4,
 "nbformat_minor": 5
}
